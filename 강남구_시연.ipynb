{
 "cells": [
  {
   "cell_type": "code",
   "execution_count": 30,
   "metadata": {},
   "outputs": [],
   "source": [
    "import pandas as pd\n",
    "from pandas import DataFrame as df\n",
    "import numpy as np\n",
    "import os\n",
    "import geopandas as gpd\n",
    "from xgboost import XGBClassifier,XGBRegressor\n",
    "from sklearn.preprocessing import OneHotEncoder\n",
    "from statsmodels.distributions.empirical_distribution import ECDF\n",
    "import datetime\n",
    "import pickle\n",
    "import requests\n",
    "from collections import defaultdict"
   ]
  },
  {
   "cell_type": "markdown",
   "metadata": {},
   "source": [
    "# 필요 데이터 불러오기"
   ]
  },
  {
   "cell_type": "markdown",
   "metadata": {},
   "source": [
    "## 1. 강남구 격자 위경도 데이터 불러오기"
   ]
  },
  {
   "cell_type": "code",
   "execution_count": 3,
   "metadata": {},
   "outputs": [],
   "source": [
    "with open('./grid_coordi', 'rb') as f:\n",
    "    a = pickle.load(f)\n",
    "with open('./grid_to_zero_coordi', 'rb') as f:\n",
    "    b = pickle.load(f) \n",
    "grid_gangnam1=df(a).T\n",
    "grid_gangnam2=df(b).T\n",
    "grid_gangnam=pd.concat([grid_gangnam1,grid_gangnam2])\n",
    "grid_gangnam=gpd.GeoDataFrame(grid_gangnam,geometry=gpd.points_from_xy(grid_gangnam[1],grid_gangnam[0]))"
   ]
  },
  {
   "cell_type": "markdown",
   "metadata": {},
   "source": [
    "## 2. 격자 매치 데이터 불러오기"
   ]
  },
  {
   "cell_type": "code",
   "execution_count": 50,
   "metadata": {},
   "outputs": [],
   "source": [
    "grid_match=np.load('./grid_match',allow_pickle=True)"
   ]
  },
  {
   "cell_type": "markdown",
   "metadata": {},
   "source": [
    "## 3. 단속 여부(0,1) 분류기 불러오기"
   ]
  },
  {
   "cell_type": "code",
   "execution_count": 5,
   "metadata": {},
   "outputs": [],
   "source": [
    "xgb_1=XGBClassifier()\n",
    "xgb_1.load_model('./model1.model')"
   ]
  },
  {
   "cell_type": "markdown",
   "metadata": {},
   "source": [
    "## 4. 단속이 된다면, 몇 건으로 단속될 지를 판단하는 분류기 불러오기"
   ]
  },
  {
   "cell_type": "code",
   "execution_count": 6,
   "metadata": {},
   "outputs": [],
   "source": [
    "xgb_2=XGBRegressor()\n",
    "xgb_2.load_model('./model2.model')"
   ]
  },
  {
   "cell_type": "markdown",
   "metadata": {},
   "source": [
    "## 5. 건수를 확률로 변환하는 변환기 불러오기"
   ]
  },
  {
   "cell_type": "code",
   "execution_count": 7,
   "metadata": {},
   "outputs": [],
   "source": [
    "from statsmodels.distributions.empirical_distribution import ECDF\n",
    "y_train=np.load('./empirical_num.npy')\n",
    "ecdf=ECDF(y_train)"
   ]
  },
  {
   "cell_type": "markdown",
   "metadata": {},
   "source": [
    "## 6. 공휴일 데이터 불러오기"
   ]
  },
  {
   "cell_type": "code",
   "execution_count": 8,
   "metadata": {},
   "outputs": [],
   "source": [
    "# 오늘 날부터 1년 후 까지 가져옴\n",
    "holiday=[]\n",
    "today=datetime.datetime.today()\n",
    "for year in range(today.year,today.year+2):\n",
    "    for month in ['01','02','03','04','05','06','07','08','09','10','11','12']:\n",
    "        URL = \"http://apis.data.go.kr/B090041/openapi/service/SpcdeInfoService/getHoliDeInfo?ServiceKey=SHKN0mFGJKABDNHU9MEyR3vq4%2BE5jaHvVaP8eUt2JgOX1tIWGtc3JvTbwr4a2MRDYa6ONNE0tb7ADSabcrBT7w%3D%3D&_type=json&solYear={year}&solMonth={month}\".format(year=year,month=month)\n",
    "        html = requests.get(URL)\n",
    "        if html.json()['response']['body']['items']:\n",
    "            try:\n",
    "                holiday.append(html.json()['response']['body']['items']['item']['locdate'])\n",
    "            except:\n",
    "                for i in html.json()['response']['body']['items']['item']:\n",
    "                    holiday.append(i['locdate'])               "
   ]
  },
  {
   "cell_type": "markdown",
   "metadata": {},
   "source": [
    "## 7. Category Index를 One hot encoder로 변환하는 변환자 불러오기"
   ]
  },
  {
   "cell_type": "code",
   "execution_count": 9,
   "metadata": {},
   "outputs": [],
   "source": [
    "from joblib import dump, load\n",
    "enc = load('./enc.joblib') "
   ]
  },
  {
   "cell_type": "markdown",
   "metadata": {},
   "source": [
    "## 주어진 데이터에서 월,일,요일, 시각, 공휴일 여부, 격자 추출"
   ]
  },
  {
   "cell_type": "code",
   "execution_count": 65,
   "metadata": {},
   "outputs": [],
   "source": [
    "def extract_feature(data,holiday=holiday):\n",
    "    is_holiday=0\n",
    "    temp=defaultdict(list)\n",
    "    for i,j in data.items():\n",
    "        temp[i].append(j)\n",
    "    \n",
    "    data=data=df(temp)\n",
    "    \n",
    "    data=gpd.GeoDataFrame(data,geometry=gpd.points_from_xy(data.경도,data.위도))\n",
    "    data['시간']=pd.to_datetime(data['해당시간'])\n",
    "    data['연월시']=(data['시간'].apply(lambda i : '%d'%(i.year)+('%d'%(i.month)).zfill(2)+('%d'%(i.day)).zfill(2))).astype(int)\n",
    "    data['요일']=data['시간'].apply(lambda i : i.weekday())\n",
    "    data['시각']=data['시간'].apply(lambda i : i.hour)\n",
    "    data['공휴일']=(data['요일']==6).astype(int)+data['연월시'].apply(lambda i : 1 if i in holiday else 0)\n",
    "    data['공휴일']=data['공휴일'].apply(lambda i : 1 if i>=1 else 0)\n",
    "    data['month']=data['시간'].apply(lambda i : i.month)\n",
    "    data['days']=data['시간'].apply(lambda i : i.day)\n",
    "    def Grid_match(data):\n",
    "        lat_min = 37.455\n",
    "        lat_max = 37.535\n",
    "        long_min = 127.01\n",
    "        long_max = 127.125\n",
    "\n",
    "        lat_bin = np.arange(lat_min, lat_max, 0.005)\n",
    "        lat_bin = np.append(lat_bin, lat_max)\n",
    "\n",
    "        long_bin = np.arange(long_min,long_max, 0.005)\n",
    "        long_bin = np.append(long_bin, long_max)\n",
    "        for i in range(139):\n",
    "            a = grid_match[i][0]\n",
    "            b = grid_match[i][1]\n",
    "            if (data.위도[0] >= lat_bin[a]) & (data.위도[0] < lat_bin[a+1]):\n",
    "                if (data.경도[0] >= long_bin[b]) & (data.경도[0] < long_bin[b+1]):\n",
    "                    return i\n",
    "    data['grid_index']=Grid_match(data)\n",
    "    return data"
   ]
  },
  {
   "cell_type": "markdown",
   "metadata": {},
   "source": [
    "## 주어진 데이터의 위,경도와 가장 가까운 격자 Top k개와 그 격자와의 거리 계산"
   ]
  },
  {
   "cell_type": "code",
   "execution_count": 92,
   "metadata": {},
   "outputs": [],
   "source": [
    "def top_k_out(data,k=5):\n",
    "    distance=grid_gangnam.geometry.distance(data.geometry[0])\n",
    "    top_k=np.argsort(distance)[:k]\n",
    "    top_k_distance=distance[np.argsort(distance)[:k]]\n",
    "    real_top_k=[ i for i in top_k if i not in b.keys() ]\n",
    "    real_top_k_distance = top_k_distance[real_top_k]\n",
    "\n",
    "    not_real_top_k=[ i for i in top_k if i in b.keys() ]\n",
    "    not_real_top_k_distance = top_k_distance[not_real_top_k]\n",
    "    return real_top_k, real_top_k_distance"
   ]
  },
  {
   "cell_type": "markdown",
   "metadata": {},
   "source": [
    "## 주어진 값에 Softmax 함수를 취하는 method"
   ]
  },
  {
   "cell_type": "code",
   "execution_count": 35,
   "metadata": {},
   "outputs": [],
   "source": [
    "def softmax(x):\n",
    "    s=(np.exp(x)).sum()\n",
    "    return np.exp(x)/s"
   ]
  },
  {
   "cell_type": "markdown",
   "metadata": {},
   "source": [
    "## 단속될 확률 반환\n",
    "데이터가 주어졌을 때,  \n",
    "1) 단속이 잘 안되는 격자일 경우 0 반환  \n",
    "2) 단속이 되는 격자일 경우  \n",
    " 2-1) 해당 데이터가 단속이 될 것 인 지 아닐 것 인지를 예측  \n",
    "    2-1-1) 만약 단속될 확률이 70%미만 일 경우->단속될 확률 반환  \n",
    "    2-1-2) 만약 단속될 확률이 70%이상 일 경우->3단계로  \n",
    "     3) 단속이 몇 건으로 될 것 인 지를 예측  \n",
    "     4) 나오게 된 결과를 확률 값으로 반환  "
   ]
  },
  {
   "cell_type": "code",
   "execution_count": 72,
   "metadata": {},
   "outputs": [],
   "source": [
    "def caught_or_not(data):\n",
    "    '''\n",
    "    단속될 확률 반환\n",
    "    '''\n",
    "    if data.grid_index[0] is None: \n",
    "        return 0\n",
    "    else:\n",
    "        \n",
    "        processed_data=data[['grid_index','시각','요일']].values\n",
    "        processed_data=enc.transform(processed_data)\n",
    "        # 해당 데이터가 단속될 것인지 아닌지 를 분류\n",
    "        # model load\n",
    "        \n",
    "        # predict\n",
    "        # 단속되지 않을 확률\n",
    "        wasted_prob=xgb_1.predict_proba(processed_data)[:,0]\n",
    "        if wasted_prob[0]<0.3:\n",
    "            return 1-wasted_prob[0]\n",
    "        else:\n",
    "        # 단속 되지 않을 확률이 70%미만인 경우.단속될 확률이 30% 이상일 경우\n",
    "        # 해당 데이터가 어느 정도로 단속될 지를 예측\n",
    "        # 해당 데이터가 어느 그리드들과 인접한 지를 계산(5개)\n",
    "            real_top_k,top_k_distance=top_k_out(data)\n",
    "            new_data=[[i,data.시각[0],data.요일[0]] for i in real_top_k] # i는 격자\n",
    "            new_data=enc.transform(new_data)\n",
    "            # 단속이 된다면 어느정도로 단속될 것 인 지를 예측\n",
    "            \n",
    "            nums=xgb_2.predict(new_data)\n",
    "            \n",
    "            # 확률로 변환\n",
    "            probs=ecdf(nums)\n",
    "            answer = (probs * softmax(top_k_distance)).sum()\n",
    "            return answer"
   ]
  },
  {
   "cell_type": "code",
   "execution_count": 89,
   "metadata": {},
   "outputs": [
    {
     "name": "stdout",
     "output_type": "stream",
     "text": [
      "0\n"
     ]
    }
   ],
   "source": [
    "if __name__ == \"__main__\":\n",
    "    data={'id':1, '위도': 37.457499999999996, '경도': 127.0225, '해당시간': '2020-08-15 00:00'}\n",
    "    data2=extract_feature(data)\n",
    "    output=caught_or_not(data2)\n",
    "    print(output)"
   ]
  },
  {
   "cell_type": "code",
   "execution_count": 93,
   "metadata": {},
   "outputs": [
    {
     "name": "stdout",
     "output_type": "stream",
     "text": [
      "0.7588830395441707\n"
     ]
    }
   ],
   "source": [
    "if __name__ == \"__main__\":\n",
    "    data={'id':2, '위도': 37.4575, '경도': 127.0275, '해당시간': '2020-08-15 00:00'}\n",
    "    data2=extract_feature(data)\n",
    "    output=caught_or_not(data2)\n",
    "    print(output)"
   ]
  }
 ],
 "metadata": {
  "kernelspec": {
   "display_name": "Python 3",
   "language": "python",
   "name": "python3"
  },
  "language_info": {
   "codemirror_mode": {
    "name": "ipython",
    "version": 3
   },
   "file_extension": ".py",
   "mimetype": "text/x-python",
   "name": "python",
   "nbconvert_exporter": "python",
   "pygments_lexer": "ipython3",
   "version": "3.8.3"
  }
 },
 "nbformat": 4,
 "nbformat_minor": 4
}
