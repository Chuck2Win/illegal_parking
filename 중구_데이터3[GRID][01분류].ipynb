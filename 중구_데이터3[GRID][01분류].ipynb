{
 "cells": [
  {
   "cell_type": "code",
   "execution_count": 15,
   "metadata": {},
   "outputs": [],
   "source": [
    "import pandas as pd\n",
    "from pandas import DataFrame as df\n",
    "import numpy as np\n",
    "import os\n",
    "import geopandas as gpd\n",
    "import matplotlib.pyplot as plt\n",
    "import datetime as dt\n",
    "from sklearn.model_selection import train_test_split\n",
    "from sklearn.preprocessing import OneHotEncoder,PolynomialFeatures\n",
    "from statsmodels.distributions.empirical_distribution import ECDF\n",
    "from xgboost import XGBClassifier\n",
    "from sklearn.metrics import accuracy_score,precision_score, recall_score,confusion_matrix,classification_report"
   ]
  },
  {
   "cell_type": "markdown",
   "metadata": {},
   "source": [
    "# Rule based\n",
    "애초에 grid 2와 18은 제거됨"
   ]
  },
  {
   "cell_type": "code",
   "execution_count": 4,
   "metadata": {},
   "outputs": [
    {
     "data": {
      "text/html": [
       "<div>\n",
       "<style scoped>\n",
       "    .dataframe tbody tr th:only-of-type {\n",
       "        vertical-align: middle;\n",
       "    }\n",
       "\n",
       "    .dataframe tbody tr th {\n",
       "        vertical-align: top;\n",
       "    }\n",
       "\n",
       "    .dataframe thead th {\n",
       "        text-align: right;\n",
       "    }\n",
       "</style>\n",
       "<table border=\"1\" class=\"dataframe\">\n",
       "  <thead>\n",
       "    <tr style=\"text-align: right;\">\n",
       "      <th></th>\n",
       "      <th>x</th>\n",
       "      <th>y</th>\n",
       "      <th>단속일시</th>\n",
       "      <th>grid_num</th>\n",
       "    </tr>\n",
       "  </thead>\n",
       "  <tbody>\n",
       "    <tr>\n",
       "      <th>0</th>\n",
       "      <td>37.551987</td>\n",
       "      <td>127.007976</td>\n",
       "      <td>2015-01-01 00:13:00</td>\n",
       "      <td>2</td>\n",
       "    </tr>\n",
       "    <tr>\n",
       "      <th>1</th>\n",
       "      <td>37.551987</td>\n",
       "      <td>127.007976</td>\n",
       "      <td>2015-01-01 00:14:00</td>\n",
       "      <td>2</td>\n",
       "    </tr>\n",
       "    <tr>\n",
       "      <th>2</th>\n",
       "      <td>37.551987</td>\n",
       "      <td>127.007976</td>\n",
       "      <td>2015-01-01 00:15:00</td>\n",
       "      <td>2</td>\n",
       "    </tr>\n",
       "    <tr>\n",
       "      <th>3</th>\n",
       "      <td>37.551987</td>\n",
       "      <td>127.007976</td>\n",
       "      <td>2015-03-16 21:08:00</td>\n",
       "      <td>2</td>\n",
       "    </tr>\n",
       "    <tr>\n",
       "      <th>4</th>\n",
       "      <td>37.551987</td>\n",
       "      <td>127.007976</td>\n",
       "      <td>2015-03-16 21:08:00</td>\n",
       "      <td>2</td>\n",
       "    </tr>\n",
       "  </tbody>\n",
       "</table>\n",
       "</div>"
      ],
      "text/plain": [
       "           x           y                단속일시  grid_num\n",
       "0  37.551987  127.007976 2015-01-01 00:13:00         2\n",
       "1  37.551987  127.007976 2015-01-01 00:14:00         2\n",
       "2  37.551987  127.007976 2015-01-01 00:15:00         2\n",
       "3  37.551987  127.007976 2015-03-16 21:08:00         2\n",
       "4  37.551987  127.007976 2015-03-16 21:08:00         2"
      ]
     },
     "execution_count": 4,
     "metadata": {},
     "output_type": "execute_result"
    }
   ],
   "source": [
    "total_data=pd.read_csv('./total_data.csv')\n",
    "total_data=total_data.loc[:,['x','y','단속일시','grid_num']]\n",
    "total_data['단속일시']=total_data['단속일시'].astype('datetime64[ns]')\n",
    "total_data.head()"
   ]
  },
  {
   "cell_type": "code",
   "execution_count": 5,
   "metadata": {},
   "outputs": [],
   "source": [
    "# 시간대 별로 나누기\n",
    "def time_zone(data_i):\n",
    "    if data_i>=6 and data_i<12:\n",
    "        return 0\n",
    "    if data_i>=12 and data_i<18:\n",
    "        return 1\n",
    "    if data_i>=18 and data_i<23:\n",
    "        return 2\n",
    "    else:\n",
    "        return 3"
   ]
  },
  {
   "cell_type": "code",
   "execution_count": 6,
   "metadata": {},
   "outputs": [],
   "source": [
    "# Holiday 가져오기\n",
    "import requests\n",
    "holiday=[]\n",
    "for year in range(2015,2021):\n",
    "    for month in ['01','02','03','04','05','06','07','08','09','10','11','12']:\n",
    "        URL = \"http://apis.data.go.kr/B090041/openapi/service/SpcdeInfoService/getHoliDeInfo?ServiceKey=SHKN0mFGJKABDNHU9MEyR3vq4%2BE5jaHvVaP8eUt2JgOX1tIWGtc3JvTbwr4a2MRDYa6ONNE0tb7ADSabcrBT7w%3D%3D&_type=json&solYear={year}&solMonth={month}\".format(year=year,month=month)\n",
    "        html = requests.get(URL)\n",
    "        if html.json()['response']['body']['items']:\n",
    "            try:\n",
    "                holiday.append(html.json()['response']['body']['items']['item']['locdate'])\n",
    "            except:\n",
    "                for i in html.json()['response']['body']['items']['item']:\n",
    "                    holiday.append(i['locdate'])             \n",
    "# int 2 str\n",
    "holiday=[str(i) for i in holiday]"
   ]
  },
  {
   "cell_type": "code",
   "execution_count": 7,
   "metadata": {
    "collapsed": true
   },
   "outputs": [
    {
     "name": "stdout",
     "output_type": "stream",
     "text": [
      "1\n",
      "2\n",
      "4\n"
     ]
    },
    {
     "ename": "KeyboardInterrupt",
     "evalue": "",
     "output_type": "error",
     "traceback": [
      "\u001b[1;31m---------------------------------------------------------------------------\u001b[0m",
      "\u001b[1;31mKeyboardInterrupt\u001b[0m                         Traceback (most recent call last)",
      "\u001b[1;32m<ipython-input-7-79f9d3997665>\u001b[0m in \u001b[0;36m<module>\u001b[1;34m\u001b[0m\n\u001b[0;32m      8\u001b[0m     \u001b[0mnew_data\u001b[0m\u001b[1;33m[\u001b[0m\u001b[1;34m'단속건수'\u001b[0m\u001b[1;33m]\u001b[0m\u001b[1;33m=\u001b[0m\u001b[1;36m0\u001b[0m\u001b[1;33m\u001b[0m\u001b[1;33m\u001b[0m\u001b[0m\n\u001b[0;32m      9\u001b[0m     \u001b[1;32mfor\u001b[0m \u001b[0mi\u001b[0m \u001b[1;32min\u001b[0m \u001b[0mnew_data\u001b[0m\u001b[1;33m.\u001b[0m\u001b[0mindex\u001b[0m\u001b[1;33m:\u001b[0m\u001b[1;33m\u001b[0m\u001b[1;33m\u001b[0m\u001b[0m\n\u001b[1;32m---> 10\u001b[1;33m         \u001b[0mnew_data\u001b[0m\u001b[1;33m[\u001b[0m\u001b[1;34m'단속건수'\u001b[0m\u001b[1;33m]\u001b[0m\u001b[1;33m[\u001b[0m\u001b[0mi\u001b[0m\u001b[1;33m]\u001b[0m\u001b[1;33m=\u001b[0m\u001b[1;33m(\u001b[0m\u001b[1;33m(\u001b[0m\u001b[0mi\u001b[0m\u001b[1;33m<=\u001b[0m\u001b[0mx\u001b[0m\u001b[1;33m.\u001b[0m\u001b[0m단속일시\u001b[0m\u001b[1;33m)\u001b[0m \u001b[1;33m&\u001b[0m \u001b[1;33m(\u001b[0m\u001b[0mx\u001b[0m\u001b[1;33m.\u001b[0m\u001b[0m단속일시\u001b[0m\u001b[1;33m<\u001b[0m\u001b[0mi\u001b[0m\u001b[1;33m+\u001b[0m\u001b[0mdt\u001b[0m\u001b[1;33m.\u001b[0m\u001b[0mtimedelta\u001b[0m\u001b[1;33m(\u001b[0m\u001b[0mhours\u001b[0m\u001b[1;33m=\u001b[0m\u001b[1;36m1\u001b[0m\u001b[1;33m)\u001b[0m\u001b[1;33m)\u001b[0m\u001b[1;33m)\u001b[0m\u001b[1;33m.\u001b[0m\u001b[0msum\u001b[0m\u001b[1;33m(\u001b[0m\u001b[1;33m)\u001b[0m\u001b[1;33m\u001b[0m\u001b[1;33m\u001b[0m\u001b[0m\n\u001b[0m\u001b[0;32m     11\u001b[0m     \u001b[1;31m# date란 feature을 만들어주자\u001b[0m\u001b[1;33m\u001b[0m\u001b[1;33m\u001b[0m\u001b[1;33m\u001b[0m\u001b[0m\n\u001b[0;32m     12\u001b[0m     \u001b[0mnew_data\u001b[0m\u001b[1;33m[\u001b[0m\u001b[1;34m'date'\u001b[0m\u001b[1;33m]\u001b[0m\u001b[1;33m=\u001b[0m\u001b[0mnew_data\u001b[0m\u001b[1;33m.\u001b[0m\u001b[0mindex\u001b[0m\u001b[1;33m\u001b[0m\u001b[1;33m\u001b[0m\u001b[0m\n",
      "\u001b[1;32mG:\\Anaconda3\\lib\\site-packages\\pandas\\core\\ops\\common.py\u001b[0m in \u001b[0;36mnew_method\u001b[1;34m(self, other)\u001b[0m\n\u001b[0;32m     63\u001b[0m         \u001b[0mother\u001b[0m \u001b[1;33m=\u001b[0m \u001b[0mitem_from_zerodim\u001b[0m\u001b[1;33m(\u001b[0m\u001b[0mother\u001b[0m\u001b[1;33m)\u001b[0m\u001b[1;33m\u001b[0m\u001b[1;33m\u001b[0m\u001b[0m\n\u001b[0;32m     64\u001b[0m \u001b[1;33m\u001b[0m\u001b[0m\n\u001b[1;32m---> 65\u001b[1;33m         \u001b[1;32mreturn\u001b[0m \u001b[0mmethod\u001b[0m\u001b[1;33m(\u001b[0m\u001b[0mself\u001b[0m\u001b[1;33m,\u001b[0m \u001b[0mother\u001b[0m\u001b[1;33m)\u001b[0m\u001b[1;33m\u001b[0m\u001b[1;33m\u001b[0m\u001b[0m\n\u001b[0m\u001b[0;32m     66\u001b[0m \u001b[1;33m\u001b[0m\u001b[0m\n\u001b[0;32m     67\u001b[0m     \u001b[1;32mreturn\u001b[0m \u001b[0mnew_method\u001b[0m\u001b[1;33m\u001b[0m\u001b[1;33m\u001b[0m\u001b[0m\n",
      "\u001b[1;32mG:\\Anaconda3\\lib\\site-packages\\pandas\\core\\ops\\__init__.py\u001b[0m in \u001b[0;36mwrapper\u001b[1;34m(self, other)\u001b[0m\n\u001b[0;32m    368\u001b[0m         \u001b[0mrvalues\u001b[0m \u001b[1;33m=\u001b[0m \u001b[0mextract_array\u001b[0m\u001b[1;33m(\u001b[0m\u001b[0mother\u001b[0m\u001b[1;33m,\u001b[0m \u001b[0mextract_numpy\u001b[0m\u001b[1;33m=\u001b[0m\u001b[1;32mTrue\u001b[0m\u001b[1;33m)\u001b[0m\u001b[1;33m\u001b[0m\u001b[1;33m\u001b[0m\u001b[0m\n\u001b[0;32m    369\u001b[0m \u001b[1;33m\u001b[0m\u001b[0m\n\u001b[1;32m--> 370\u001b[1;33m         \u001b[0mres_values\u001b[0m \u001b[1;33m=\u001b[0m \u001b[0mcomparison_op\u001b[0m\u001b[1;33m(\u001b[0m\u001b[0mlvalues\u001b[0m\u001b[1;33m,\u001b[0m \u001b[0mrvalues\u001b[0m\u001b[1;33m,\u001b[0m \u001b[0mop\u001b[0m\u001b[1;33m)\u001b[0m\u001b[1;33m\u001b[0m\u001b[1;33m\u001b[0m\u001b[0m\n\u001b[0m\u001b[0;32m    371\u001b[0m \u001b[1;33m\u001b[0m\u001b[0m\n\u001b[0;32m    372\u001b[0m         \u001b[1;32mreturn\u001b[0m \u001b[0mself\u001b[0m\u001b[1;33m.\u001b[0m\u001b[0m_construct_result\u001b[0m\u001b[1;33m(\u001b[0m\u001b[0mres_values\u001b[0m\u001b[1;33m,\u001b[0m \u001b[0mname\u001b[0m\u001b[1;33m=\u001b[0m\u001b[0mres_name\u001b[0m\u001b[1;33m)\u001b[0m\u001b[1;33m\u001b[0m\u001b[1;33m\u001b[0m\u001b[0m\n",
      "\u001b[1;32mG:\\Anaconda3\\lib\\site-packages\\pandas\\core\\ops\\array_ops.py\u001b[0m in \u001b[0;36mcomparison_op\u001b[1;34m(left, right, op)\u001b[0m\n\u001b[0;32m    227\u001b[0m     \u001b[1;32mif\u001b[0m \u001b[0mshould_extension_dispatch\u001b[0m\u001b[1;33m(\u001b[0m\u001b[0mlvalues\u001b[0m\u001b[1;33m,\u001b[0m \u001b[0mrvalues\u001b[0m\u001b[1;33m)\u001b[0m\u001b[1;33m:\u001b[0m\u001b[1;33m\u001b[0m\u001b[1;33m\u001b[0m\u001b[0m\n\u001b[0;32m    228\u001b[0m         \u001b[1;31m# Call the method on lvalues\u001b[0m\u001b[1;33m\u001b[0m\u001b[1;33m\u001b[0m\u001b[1;33m\u001b[0m\u001b[0m\n\u001b[1;32m--> 229\u001b[1;33m         \u001b[0mres_values\u001b[0m \u001b[1;33m=\u001b[0m \u001b[0mop\u001b[0m\u001b[1;33m(\u001b[0m\u001b[0mlvalues\u001b[0m\u001b[1;33m,\u001b[0m \u001b[0mrvalues\u001b[0m\u001b[1;33m)\u001b[0m\u001b[1;33m\u001b[0m\u001b[1;33m\u001b[0m\u001b[0m\n\u001b[0m\u001b[0;32m    230\u001b[0m \u001b[1;33m\u001b[0m\u001b[0m\n\u001b[0;32m    231\u001b[0m     \u001b[1;32melif\u001b[0m \u001b[0mis_scalar\u001b[0m\u001b[1;33m(\u001b[0m\u001b[0mrvalues\u001b[0m\u001b[1;33m)\u001b[0m \u001b[1;32mand\u001b[0m \u001b[0misna\u001b[0m\u001b[1;33m(\u001b[0m\u001b[0mrvalues\u001b[0m\u001b[1;33m)\u001b[0m\u001b[1;33m:\u001b[0m\u001b[1;33m\u001b[0m\u001b[1;33m\u001b[0m\u001b[0m\n",
      "\u001b[1;32mG:\\Anaconda3\\lib\\site-packages\\pandas\\core\\ops\\common.py\u001b[0m in \u001b[0;36mnew_method\u001b[1;34m(self, other)\u001b[0m\n\u001b[0;32m     63\u001b[0m         \u001b[0mother\u001b[0m \u001b[1;33m=\u001b[0m \u001b[0mitem_from_zerodim\u001b[0m\u001b[1;33m(\u001b[0m\u001b[0mother\u001b[0m\u001b[1;33m)\u001b[0m\u001b[1;33m\u001b[0m\u001b[1;33m\u001b[0m\u001b[0m\n\u001b[0;32m     64\u001b[0m \u001b[1;33m\u001b[0m\u001b[0m\n\u001b[1;32m---> 65\u001b[1;33m         \u001b[1;32mreturn\u001b[0m \u001b[0mmethod\u001b[0m\u001b[1;33m(\u001b[0m\u001b[0mself\u001b[0m\u001b[1;33m,\u001b[0m \u001b[0mother\u001b[0m\u001b[1;33m)\u001b[0m\u001b[1;33m\u001b[0m\u001b[1;33m\u001b[0m\u001b[0m\n\u001b[0m\u001b[0;32m     66\u001b[0m \u001b[1;33m\u001b[0m\u001b[0m\n\u001b[0;32m     67\u001b[0m     \u001b[1;32mreturn\u001b[0m \u001b[0mnew_method\u001b[0m\u001b[1;33m\u001b[0m\u001b[1;33m\u001b[0m\u001b[0m\n",
      "\u001b[1;32mG:\\Anaconda3\\lib\\site-packages\\pandas\\core\\arrays\\datetimelike.py\u001b[0m in \u001b[0;36mwrapper\u001b[1;34m(self, other)\u001b[0m\n\u001b[0;32m    128\u001b[0m \u001b[1;33m\u001b[0m\u001b[0m\n\u001b[0;32m    129\u001b[0m         \u001b[0mother_i8\u001b[0m \u001b[1;33m=\u001b[0m \u001b[0mself\u001b[0m\u001b[1;33m.\u001b[0m\u001b[0m_unbox\u001b[0m\u001b[1;33m(\u001b[0m\u001b[0mother\u001b[0m\u001b[1;33m)\u001b[0m\u001b[1;33m\u001b[0m\u001b[1;33m\u001b[0m\u001b[0m\n\u001b[1;32m--> 130\u001b[1;33m         \u001b[0mresult\u001b[0m \u001b[1;33m=\u001b[0m \u001b[0mop\u001b[0m\u001b[1;33m(\u001b[0m\u001b[0mself\u001b[0m\u001b[1;33m.\u001b[0m\u001b[0masi8\u001b[0m\u001b[1;33m,\u001b[0m \u001b[0mother_i8\u001b[0m\u001b[1;33m)\u001b[0m\u001b[1;33m\u001b[0m\u001b[1;33m\u001b[0m\u001b[0m\n\u001b[0m\u001b[0;32m    131\u001b[0m \u001b[1;33m\u001b[0m\u001b[0m\n\u001b[0;32m    132\u001b[0m         \u001b[0mo_mask\u001b[0m \u001b[1;33m=\u001b[0m \u001b[0misna\u001b[0m\u001b[1;33m(\u001b[0m\u001b[0mother\u001b[0m\u001b[1;33m)\u001b[0m\u001b[1;33m\u001b[0m\u001b[1;33m\u001b[0m\u001b[0m\n",
      "\u001b[1;31mKeyboardInterrupt\u001b[0m: "
     ]
    }
   ],
   "source": [
    "# 하루를 24등분해서 2015년 1월 1일부터 2020년 7월 14일까지의 데이터를 작성 \n",
    "# 일단 그리드만을 대상으로 작성\n",
    "processed_data=[]\n",
    "for j in set(total_data.grid_num):\n",
    "    print(j)\n",
    "    x=total_data.loc[total_data['grid_num']==j,:]\n",
    "    new_data=df(index=pd.date_range('2015-01-01','2020-07-14',freq='H'))\n",
    "    new_data['단속건수']=0\n",
    "    for i in new_data.index:\n",
    "        new_data['단속건수'][i]=((i<=x.단속일시) & (x.단속일시<i+dt.timedelta(hours=1))).sum()\n",
    "    # date란 feature을 만들어주자\n",
    "    new_data['date']=new_data.index\n",
    "    new_data['연월시']=new_data['date'].apply(lambda i : '%d'%(i.year)+('%d'%(i.month)).zfill(2)+('%d'%(i.day)).zfill(2))\n",
    "    new_data['month']=new_data['date'].apply(lambda i : i.month)\n",
    "    new_data['days']=new_data['date'].apply(lambda i : i.day)\n",
    "    new_data['hour']=new_data['date'].apply(lambda i : i.hour)\n",
    "    new_data['grid_num']=j-1\n",
    "    new_data['요일']=new_data['date'].apply(lambda i : dt.datetime.weekday(i)) # 0 : 월 ~ 6 : 일\n",
    "    new_data['공휴일']=((new_data['요일']==6)|(new_data['연월시'].apply(lambda i : True if i in holiday else False))).astype(int)\n",
    "    processed_data.append(new_data.values.tolist())"
   ]
  },
  {
   "cell_type": "code",
   "execution_count": null,
   "metadata": {},
   "outputs": [],
   "source": [
    "processed_data=df(np.array(processed_data).reshape(-1,10),columns=['단속건수','date','연월시','month','days','hour','grid_num','요일','시간대','공휴일'])\n",
    "processed_data.head()"
   ]
  },
  {
   "cell_type": "markdown",
   "metadata": {},
   "source": [
    "# 데이터 현황\n",
    "전체 데이터 개수 : 1,115,615\n",
    "단속건수가 0이 아닌 데이터 개수 : 221,302   "
   ]
  },
  {
   "cell_type": "code",
   "execution_count": 95,
   "metadata": {},
   "outputs": [
    {
     "name": "stdout",
     "output_type": "stream",
     "text": [
      "grid_num : 0\n",
      "data 개수 : 48505\n",
      "단속건수가 0이 아닌 data 개수 : 9969\n",
      "grid_num : 1\n",
      "data 개수 : 48505\n",
      "단속건수가 0이 아닌 data 개수 : 8437\n",
      "grid_num : 3\n",
      "data 개수 : 48505\n",
      "단속건수가 0이 아닌 data 개수 : 16876\n",
      "grid_num : 4\n",
      "data 개수 : 48505\n",
      "단속건수가 0이 아닌 data 개수 : 16657\n",
      "grid_num : 5\n",
      "data 개수 : 48505\n",
      "단속건수가 0이 아닌 data 개수 : 2\n",
      "grid_num : 6\n",
      "data 개수 : 48505\n",
      "단속건수가 0이 아닌 data 개수 : 12103\n",
      "grid_num : 7\n",
      "data 개수 : 48505\n",
      "단속건수가 0이 아닌 data 개수 : 21145\n",
      "grid_num : 8\n",
      "data 개수 : 48505\n",
      "단속건수가 0이 아닌 data 개수 : 18\n",
      "grid_num : 9\n",
      "data 개수 : 48505\n",
      "단속건수가 0이 아닌 data 개수 : 23417\n",
      "grid_num : 10\n",
      "data 개수 : 48505\n",
      "단속건수가 0이 아닌 data 개수 : 10945\n",
      "grid_num : 11\n",
      "data 개수 : 48505\n",
      "단속건수가 0이 아닌 data 개수 : 843\n",
      "grid_num : 12\n",
      "data 개수 : 48505\n",
      "단속건수가 0이 아닌 data 개수 : 1922\n",
      "grid_num : 13\n",
      "data 개수 : 48505\n",
      "단속건수가 0이 아닌 data 개수 : 17716\n",
      "grid_num : 14\n",
      "data 개수 : 48505\n",
      "단속건수가 0이 아닌 data 개수 : 1\n",
      "grid_num : 15\n",
      "data 개수 : 48505\n",
      "단속건수가 0이 아닌 data 개수 : 12426\n",
      "grid_num : 16\n",
      "data 개수 : 48505\n",
      "단속건수가 0이 아닌 data 개수 : 6391\n",
      "grid_num : 17\n",
      "data 개수 : 48505\n",
      "단속건수가 0이 아닌 data 개수 : 4\n",
      "grid_num : 19\n",
      "data 개수 : 48505\n",
      "단속건수가 0이 아닌 data 개수 : 14810\n",
      "grid_num : 20\n",
      "data 개수 : 48505\n",
      "단속건수가 0이 아닌 data 개수 : 1\n",
      "grid_num : 21\n",
      "data 개수 : 48505\n",
      "단속건수가 0이 아닌 data 개수 : 79\n",
      "grid_num : 22\n",
      "data 개수 : 48505\n",
      "단속건수가 0이 아닌 data 개수 : 14247\n",
      "grid_num : 23\n",
      "data 개수 : 48505\n",
      "단속건수가 0이 아닌 data 개수 : 6553\n",
      "grid_num : 24\n",
      "data 개수 : 48505\n",
      "단속건수가 0이 아닌 data 개수 : 26740\n"
     ]
    }
   ],
   "source": [
    "for i in set(processed_data.grid_num):\n",
    "    print('grid_num : %d'%i)\n",
    "    print('data 개수 : %d'%len(processed_data.loc[processed_data.grid_num==i][:]))\n",
    "    print('단속건수가 0이 아닌 data 개수 : %d'%(processed_data.loc[processed_data.grid_num==i]['단속건수']!=0).sum())"
   ]
  },
  {
   "cell_type": "code",
   "execution_count": 97,
   "metadata": {},
   "outputs": [],
   "source": [
    "# 데이터 저장\n",
    "processed_data.to_csv('./processed_data_중구.csv',index=False)"
   ]
  },
  {
   "cell_type": "code",
   "execution_count": 9,
   "metadata": {},
   "outputs": [],
   "source": [
    "# 데이터 로드\n",
    "processed_data=pd.read_csv('./processed_data_중구.csv')"
   ]
  },
  {
   "cell_type": "code",
   "execution_count": 10,
   "metadata": {},
   "outputs": [],
   "source": [
    "processed_data=processed_data.loc[:,['단속건수','date','연월시','month','days','hour','grid_num','요일','공휴일']]"
   ]
  },
  {
   "cell_type": "code",
   "execution_count": 11,
   "metadata": {},
   "outputs": [
    {
     "data": {
      "text/html": [
       "<div>\n",
       "<style scoped>\n",
       "    .dataframe tbody tr th:only-of-type {\n",
       "        vertical-align: middle;\n",
       "    }\n",
       "\n",
       "    .dataframe tbody tr th {\n",
       "        vertical-align: top;\n",
       "    }\n",
       "\n",
       "    .dataframe thead th {\n",
       "        text-align: right;\n",
       "    }\n",
       "</style>\n",
       "<table border=\"1\" class=\"dataframe\">\n",
       "  <thead>\n",
       "    <tr style=\"text-align: right;\">\n",
       "      <th></th>\n",
       "      <th>단속건수</th>\n",
       "      <th>date</th>\n",
       "      <th>연월시</th>\n",
       "      <th>month</th>\n",
       "      <th>days</th>\n",
       "      <th>hour</th>\n",
       "      <th>grid_num</th>\n",
       "      <th>요일</th>\n",
       "      <th>공휴일</th>\n",
       "    </tr>\n",
       "  </thead>\n",
       "  <tbody>\n",
       "    <tr>\n",
       "      <th>0</th>\n",
       "      <td>0</td>\n",
       "      <td>2015-01-01 00:00:00</td>\n",
       "      <td>20150101</td>\n",
       "      <td>1</td>\n",
       "      <td>1</td>\n",
       "      <td>0</td>\n",
       "      <td>0</td>\n",
       "      <td>3</td>\n",
       "      <td>1</td>\n",
       "    </tr>\n",
       "    <tr>\n",
       "      <th>1</th>\n",
       "      <td>0</td>\n",
       "      <td>2015-01-01 01:00:00</td>\n",
       "      <td>20150101</td>\n",
       "      <td>1</td>\n",
       "      <td>1</td>\n",
       "      <td>1</td>\n",
       "      <td>0</td>\n",
       "      <td>3</td>\n",
       "      <td>1</td>\n",
       "    </tr>\n",
       "    <tr>\n",
       "      <th>2</th>\n",
       "      <td>0</td>\n",
       "      <td>2015-01-01 02:00:00</td>\n",
       "      <td>20150101</td>\n",
       "      <td>1</td>\n",
       "      <td>1</td>\n",
       "      <td>2</td>\n",
       "      <td>0</td>\n",
       "      <td>3</td>\n",
       "      <td>1</td>\n",
       "    </tr>\n",
       "    <tr>\n",
       "      <th>3</th>\n",
       "      <td>0</td>\n",
       "      <td>2015-01-01 03:00:00</td>\n",
       "      <td>20150101</td>\n",
       "      <td>1</td>\n",
       "      <td>1</td>\n",
       "      <td>3</td>\n",
       "      <td>0</td>\n",
       "      <td>3</td>\n",
       "      <td>1</td>\n",
       "    </tr>\n",
       "    <tr>\n",
       "      <th>4</th>\n",
       "      <td>0</td>\n",
       "      <td>2015-01-01 04:00:00</td>\n",
       "      <td>20150101</td>\n",
       "      <td>1</td>\n",
       "      <td>1</td>\n",
       "      <td>4</td>\n",
       "      <td>0</td>\n",
       "      <td>3</td>\n",
       "      <td>1</td>\n",
       "    </tr>\n",
       "    <tr>\n",
       "      <th>...</th>\n",
       "      <td>...</td>\n",
       "      <td>...</td>\n",
       "      <td>...</td>\n",
       "      <td>...</td>\n",
       "      <td>...</td>\n",
       "      <td>...</td>\n",
       "      <td>...</td>\n",
       "      <td>...</td>\n",
       "      <td>...</td>\n",
       "    </tr>\n",
       "    <tr>\n",
       "      <th>1115610</th>\n",
       "      <td>0</td>\n",
       "      <td>2020-07-13 20:00:00</td>\n",
       "      <td>20200713</td>\n",
       "      <td>7</td>\n",
       "      <td>13</td>\n",
       "      <td>20</td>\n",
       "      <td>24</td>\n",
       "      <td>0</td>\n",
       "      <td>0</td>\n",
       "    </tr>\n",
       "    <tr>\n",
       "      <th>1115611</th>\n",
       "      <td>0</td>\n",
       "      <td>2020-07-13 21:00:00</td>\n",
       "      <td>20200713</td>\n",
       "      <td>7</td>\n",
       "      <td>13</td>\n",
       "      <td>21</td>\n",
       "      <td>24</td>\n",
       "      <td>0</td>\n",
       "      <td>0</td>\n",
       "    </tr>\n",
       "    <tr>\n",
       "      <th>1115612</th>\n",
       "      <td>0</td>\n",
       "      <td>2020-07-13 22:00:00</td>\n",
       "      <td>20200713</td>\n",
       "      <td>7</td>\n",
       "      <td>13</td>\n",
       "      <td>22</td>\n",
       "      <td>24</td>\n",
       "      <td>0</td>\n",
       "      <td>0</td>\n",
       "    </tr>\n",
       "    <tr>\n",
       "      <th>1115613</th>\n",
       "      <td>0</td>\n",
       "      <td>2020-07-13 23:00:00</td>\n",
       "      <td>20200713</td>\n",
       "      <td>7</td>\n",
       "      <td>13</td>\n",
       "      <td>23</td>\n",
       "      <td>24</td>\n",
       "      <td>0</td>\n",
       "      <td>0</td>\n",
       "    </tr>\n",
       "    <tr>\n",
       "      <th>1115614</th>\n",
       "      <td>0</td>\n",
       "      <td>2020-07-14 00:00:00</td>\n",
       "      <td>20200714</td>\n",
       "      <td>7</td>\n",
       "      <td>14</td>\n",
       "      <td>0</td>\n",
       "      <td>24</td>\n",
       "      <td>1</td>\n",
       "      <td>0</td>\n",
       "    </tr>\n",
       "  </tbody>\n",
       "</table>\n",
       "<p>1115615 rows × 9 columns</p>\n",
       "</div>"
      ],
      "text/plain": [
       "         단속건수                 date       연월시  month  days  hour  grid_num  요일  \\\n",
       "0           0  2015-01-01 00:00:00  20150101      1     1     0         0   3   \n",
       "1           0  2015-01-01 01:00:00  20150101      1     1     1         0   3   \n",
       "2           0  2015-01-01 02:00:00  20150101      1     1     2         0   3   \n",
       "3           0  2015-01-01 03:00:00  20150101      1     1     3         0   3   \n",
       "4           0  2015-01-01 04:00:00  20150101      1     1     4         0   3   \n",
       "...       ...                  ...       ...    ...   ...   ...       ...  ..   \n",
       "1115610     0  2020-07-13 20:00:00  20200713      7    13    20        24   0   \n",
       "1115611     0  2020-07-13 21:00:00  20200713      7    13    21        24   0   \n",
       "1115612     0  2020-07-13 22:00:00  20200713      7    13    22        24   0   \n",
       "1115613     0  2020-07-13 23:00:00  20200713      7    13    23        24   0   \n",
       "1115614     0  2020-07-14 00:00:00  20200714      7    14     0        24   1   \n",
       "\n",
       "         공휴일  \n",
       "0          1  \n",
       "1          1  \n",
       "2          1  \n",
       "3          1  \n",
       "4          1  \n",
       "...      ...  \n",
       "1115610    0  \n",
       "1115611    0  \n",
       "1115612    0  \n",
       "1115613    0  \n",
       "1115614    0  \n",
       "\n",
       "[1115615 rows x 9 columns]"
      ]
     },
     "execution_count": 11,
     "metadata": {},
     "output_type": "execute_result"
    }
   ],
   "source": [
    "processed_data"
   ]
  },
  {
   "cell_type": "markdown",
   "metadata": {},
   "source": [
    "# model 1\n",
    "단속 건수가 0인 경우 0, 아닌 경우는 1로 바꿔서 분류 진행\n",
    "여기에서 단속 건수가 1이 될 확률이 70%인 경우 model2, 즉 몇 건으로 단속될 것 인 지를 예측"
   ]
  },
  {
   "cell_type": "code",
   "execution_count": 13,
   "metadata": {},
   "outputs": [],
   "source": [
    "X=processed_data.loc[:,['month','days','hour','grid_num','요일','공휴일']]"
   ]
  },
  {
   "cell_type": "markdown",
   "metadata": {},
   "source": [
    "# 1차항 만 고려했을 경우"
   ]
  },
  {
   "cell_type": "code",
   "execution_count": 18,
   "metadata": {},
   "outputs": [],
   "source": [
    "X=processed_data.loc[:,['month','days','hour','grid_num','요일','공휴일']]\n",
    "one=OneHotEncoder()\n",
    "one.fit(X)\n",
    "X_one=one.transform(X) \n",
    "y=(processed_data.loc[:,'단속건수']!=0).astype(int)"
   ]
  },
  {
   "cell_type": "markdown",
   "metadata": {},
   "source": [
    "## Train Test Split"
   ]
  },
  {
   "cell_type": "code",
   "execution_count": 19,
   "metadata": {},
   "outputs": [],
   "source": [
    "X_train,X_test,y_train,y_test=train_test_split(X_one,y,test_size=0.1)"
   ]
  },
  {
   "cell_type": "markdown",
   "metadata": {},
   "source": [
    "# xgboost 학습"
   ]
  },
  {
   "cell_type": "code",
   "execution_count": 20,
   "metadata": {},
   "outputs": [
    {
     "data": {
      "text/plain": [
       "XGBClassifier(base_score=0.5, booster='gbtree', colsample_bylevel=1,\n",
       "              colsample_bynode=1, colsample_bytree=1, gamma=0, gpu_id=-1,\n",
       "              importance_type='gain', interaction_constraints='',\n",
       "              learning_rate=0.300000012, max_delta_step=0, max_depth=6,\n",
       "              min_child_weight=1, missing=nan, monotone_constraints='()',\n",
       "              n_estimators=100, n_jobs=0, num_parallel_tree=1, random_state=0,\n",
       "              reg_alpha=0, reg_lambda=1, scale_pos_weight=1, subsample=1,\n",
       "              tree_method='exact', validate_parameters=1, verbosity=None)"
      ]
     },
     "execution_count": 20,
     "metadata": {},
     "output_type": "execute_result"
    }
   ],
   "source": [
    "xgb=XGBClassifier()\n",
    "xgb.fit(X_train,y_train)"
   ]
  },
  {
   "cell_type": "markdown",
   "metadata": {},
   "source": [
    "### TEST - 1이 될 확률이 30%이상인 경우 1로 분류"
   ]
  },
  {
   "cell_type": "code",
   "execution_count": 22,
   "metadata": {},
   "outputs": [
    {
     "name": "stdout",
     "output_type": "stream",
     "text": [
      "[[76433 12816]\n",
      " [ 4963 17350]]\n",
      "              precision    recall  f1-score   support\n",
      "\n",
      "           0       0.94      0.86      0.90     89249\n",
      "           1       0.58      0.78      0.66     22313\n",
      "\n",
      "    accuracy                           0.84    111562\n",
      "   macro avg       0.76      0.82      0.78    111562\n",
      "weighted avg       0.87      0.84      0.85    111562\n",
      "\n"
     ]
    }
   ],
   "source": [
    "p = xgb.predict_proba(X_test)\n",
    "predicted=p[:,1]>0.3 \n",
    "print(confusion_matrix(y_test,predicted))\n",
    "print(classification_report(y_test,predicted))"
   ]
  },
  {
   "cell_type": "markdown",
   "metadata": {},
   "source": [
    "# 2차항(총 feature 28)"
   ]
  },
  {
   "cell_type": "code",
   "execution_count": 23,
   "metadata": {},
   "outputs": [],
   "source": [
    "poly=PolynomialFeatures(degree=2)\n",
    "X_=poly.fit_transform(X)\n",
    "one=OneHotEncoder()\n",
    "one.fit(X_)\n",
    "X_one=one.transform(X_) \n",
    "y=(processed_data.loc[:,'단속건수']!=0).astype(int)"
   ]
  },
  {
   "cell_type": "markdown",
   "metadata": {},
   "source": [
    "## Train, test split"
   ]
  },
  {
   "cell_type": "code",
   "execution_count": 24,
   "metadata": {},
   "outputs": [],
   "source": [
    "X_train,X_test,y_train,y_test=train_test_split(X_one,y,test_size=0.1)"
   ]
  },
  {
   "cell_type": "markdown",
   "metadata": {},
   "source": [
    "# xgboost 학습"
   ]
  },
  {
   "cell_type": "code",
   "execution_count": 25,
   "metadata": {},
   "outputs": [
    {
     "data": {
      "text/plain": [
       "XGBClassifier(base_score=0.5, booster='gbtree', colsample_bylevel=1,\n",
       "              colsample_bynode=1, colsample_bytree=1, gamma=0, gpu_id=-1,\n",
       "              importance_type='gain', interaction_constraints='',\n",
       "              learning_rate=0.300000012, max_delta_step=0, max_depth=6,\n",
       "              min_child_weight=1, missing=nan, monotone_constraints='()',\n",
       "              n_estimators=100, n_jobs=0, num_parallel_tree=1, random_state=0,\n",
       "              reg_alpha=0, reg_lambda=1, scale_pos_weight=1, subsample=1,\n",
       "              tree_method='exact', validate_parameters=1, verbosity=None)"
      ]
     },
     "execution_count": 25,
     "metadata": {},
     "output_type": "execute_result"
    }
   ],
   "source": [
    "xgb=XGBClassifier()\n",
    "xgb.fit(X_train,y_train)"
   ]
  },
  {
   "cell_type": "code",
   "execution_count": 189,
   "metadata": {},
   "outputs": [],
   "source": [
    "xgb.save_model('model1_1.model')"
   ]
  },
  {
   "cell_type": "markdown",
   "metadata": {},
   "source": [
    "### TEST - 1이 될 확률이 20%이상인 경우 1로 분류"
   ]
  },
  {
   "cell_type": "code",
   "execution_count": 26,
   "metadata": {},
   "outputs": [
    {
     "name": "stdout",
     "output_type": "stream",
     "text": [
      "[[69567 20213]\n",
      " [ 2497 19285]]\n",
      "              precision    recall  f1-score   support\n",
      "\n",
      "           0       0.97      0.77      0.86     89780\n",
      "           1       0.49      0.89      0.63     21782\n",
      "\n",
      "    accuracy                           0.80    111562\n",
      "   macro avg       0.73      0.83      0.74    111562\n",
      "weighted avg       0.87      0.80      0.81    111562\n",
      "\n"
     ]
    }
   ],
   "source": [
    "p = xgb.predict_proba(X_test)\n",
    "predicted=p[:,1]>0.2 # 1로 분류할 확률이 20%이상인 경우를 1로 분류\n",
    "print(confusion_matrix(y_test,predicted))\n",
    "print(classification_report(y_test,predicted))"
   ]
  },
  {
   "cell_type": "markdown",
   "metadata": {},
   "source": [
    "### TEST - 1이 될 확률이 30%이상인 경우 1로 분류"
   ]
  },
  {
   "cell_type": "code",
   "execution_count": 27,
   "metadata": {},
   "outputs": [
    {
     "name": "stdout",
     "output_type": "stream",
     "text": [
      "[[76817 12963]\n",
      " [ 4730 17052]]\n",
      "              precision    recall  f1-score   support\n",
      "\n",
      "           0       0.94      0.86      0.90     89780\n",
      "           1       0.57      0.78      0.66     21782\n",
      "\n",
      "    accuracy                           0.84    111562\n",
      "   macro avg       0.76      0.82      0.78    111562\n",
      "weighted avg       0.87      0.84      0.85    111562\n",
      "\n"
     ]
    }
   ],
   "source": [
    "p = xgb.predict_proba(X_test)\n",
    "predicted=p[:,1]>0.3 # 1로 분류할 확률이 30%이상인 경우를 1로 분류\n",
    "print(confusion_matrix(y_test,predicted))\n",
    "print(classification_report(y_test,predicted))"
   ]
  },
  {
   "cell_type": "markdown",
   "metadata": {},
   "source": [
    "### TEST - 1이 될 확률이 40%이상인 경우 1로 분류"
   ]
  },
  {
   "cell_type": "code",
   "execution_count": 28,
   "metadata": {},
   "outputs": [
    {
     "name": "stdout",
     "output_type": "stream",
     "text": [
      "[[81058  8722]\n",
      " [ 6884 14898]]\n",
      "              precision    recall  f1-score   support\n",
      "\n",
      "           0       0.92      0.90      0.91     89780\n",
      "           1       0.63      0.68      0.66     21782\n",
      "\n",
      "    accuracy                           0.86    111562\n",
      "   macro avg       0.78      0.79      0.78    111562\n",
      "weighted avg       0.86      0.86      0.86    111562\n",
      "\n"
     ]
    }
   ],
   "source": [
    "#############################TEST#############################################\n",
    "p = xgb.predict_proba(X_test)\n",
    "predicted=p[:,1]>0.4 # 1로 분류할 확률이 40%이상인 경우를 1로 분류\n",
    "print(confusion_matrix(y_test,predicted))\n",
    "print(classification_report(y_test,predicted))"
   ]
  },
  {
   "cell_type": "markdown",
   "metadata": {},
   "source": [
    "### TEST - 1이 될 확률이 50%이상인 경우 1로 분류"
   ]
  },
  {
   "cell_type": "code",
   "execution_count": 29,
   "metadata": {},
   "outputs": [
    {
     "name": "stdout",
     "output_type": "stream",
     "text": [
      "[[84370  5410]\n",
      " [ 9754 12028]]\n",
      "              precision    recall  f1-score   support\n",
      "\n",
      "           0       0.90      0.94      0.92     89780\n",
      "           1       0.69      0.55      0.61     21782\n",
      "\n",
      "    accuracy                           0.86    111562\n",
      "   macro avg       0.79      0.75      0.77    111562\n",
      "weighted avg       0.86      0.86      0.86    111562\n",
      "\n"
     ]
    }
   ],
   "source": [
    "p = xgb.predict_proba(X_test)\n",
    "predicted=p[:,1]>0.5 # 1로 분류할 확률이 50%이상인 경우를 1로 분류\n",
    "print(confusion_matrix(y_test,predicted))\n",
    "print(classification_report(y_test,predicted))"
   ]
  }
 ],
 "metadata": {
  "kernelspec": {
   "display_name": "Python 3",
   "language": "python",
   "name": "python3"
  },
  "language_info": {
   "codemirror_mode": {
    "name": "ipython",
    "version": 3
   },
   "file_extension": ".py",
   "mimetype": "text/x-python",
   "name": "python",
   "nbconvert_exporter": "python",
   "pygments_lexer": "ipython3",
   "version": "3.8.3"
  }
 },
 "nbformat": 4,
 "nbformat_minor": 2
}
