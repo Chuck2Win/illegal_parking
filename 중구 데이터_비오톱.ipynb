{
 "cells": [
  {
   "cell_type": "code",
   "execution_count": 50,
   "metadata": {},
   "outputs": [],
   "source": [
    "import pandas as pd\n",
    "from pandas import DataFrame as df\n",
    "import numpy as np\n",
    "import os\n",
    "import geopandas as gpd\n",
    "import matplotlib.pyplot as plt\n",
    "import datetime as dt\n",
    "from sklearn.metrics import classification_report, confusion_matrix\n",
    "from sklearn.model_selection import train_test_split\n",
    "from xgboost import XGBClassifier\n",
    "from sklearn.ensemble import RandomForestClassifier\n",
    "from imblearn.under_sampling import RandomUnderSampler\n",
    "from imblearn.over_sampling import RandomOverSampler"
   ]
  },
  {
   "cell_type": "markdown",
   "metadata": {},
   "source": [
    "# Grid 별, 비오톱 별로 각각의 Model을 학습\n",
    "## 이 때 Grid에서 너무 sparse 한 경우 Rule Based로 0으로 \n",
    "## Sparse 기준"
   ]
  },
  {
   "cell_type": "code",
   "execution_count": 39,
   "metadata": {},
   "outputs": [],
   "source": [
    "비오톱0=pd.read_csv('./비오톱유형0.csv',header=0,index_col=0)"
   ]
  },
  {
   "cell_type": "markdown",
   "metadata": {},
   "source": [
    "# TRAIN TEST SPLIT"
   ]
  },
  {
   "cell_type": "code",
   "execution_count": null,
   "metadata": {},
   "outputs": [],
   "source": [
    "## Grid 1만 일단 진행해보자\n",
    "## TEST는 2020년 7월 데이터만을 기준으로 진행하자"
   ]
  },
  {
   "cell_type": "markdown",
   "metadata": {},
   "source": [
    "# Oversampling"
   ]
  },
  {
   "cell_type": "code",
   "execution_count": 48,
   "metadata": {},
   "outputs": [
    {
     "name": "stdout",
     "output_type": "stream",
     "text": [
      "Test data\n",
      "              precision    recall  f1-score   support\n",
      "\n",
      "           0       0.90      0.57      0.70       263\n",
      "           1       0.34      0.77      0.47        74\n",
      "\n",
      "    accuracy                           0.61       337\n",
      "   macro avg       0.62      0.67      0.58       337\n",
      "weighted avg       0.77      0.61      0.65       337\n",
      "\n",
      "[[150 113]\n",
      " [ 17  57]]\n",
      "Test data\n",
      "              precision    recall  f1-score   support\n",
      "\n",
      "           0       0.69      0.69      0.69       104\n",
      "           1       0.86      0.86      0.86       233\n",
      "\n",
      "    accuracy                           0.81       337\n",
      "   macro avg       0.77      0.78      0.77       337\n",
      "weighted avg       0.81      0.81      0.81       337\n",
      "\n",
      "[[ 72  32]\n",
      " [ 33 200]]\n",
      "Test data\n",
      "              precision    recall  f1-score   support\n",
      "\n",
      "           0       0.88      0.61      0.72       233\n",
      "           1       0.48      0.81      0.60       104\n",
      "\n",
      "    accuracy                           0.67       337\n",
      "   macro avg       0.68      0.71      0.66       337\n",
      "weighted avg       0.75      0.67      0.68       337\n",
      "\n",
      "[[142  91]\n",
      " [ 20  84]]\n",
      "Test data\n",
      "              precision    recall  f1-score   support\n",
      "\n",
      "           0       0.69      0.62      0.66       152\n",
      "           1       0.71      0.77      0.74       185\n",
      "\n",
      "    accuracy                           0.71       337\n",
      "   macro avg       0.70      0.70      0.70       337\n",
      "weighted avg       0.71      0.71      0.70       337\n",
      "\n",
      "[[ 95  57]\n",
      " [ 42 143]]\n",
      "Test data\n",
      "              precision    recall  f1-score   support\n",
      "\n",
      "           0       0.92      0.61      0.73       274\n",
      "           1       0.31      0.78      0.45        63\n",
      "\n",
      "    accuracy                           0.64       337\n",
      "   macro avg       0.62      0.69      0.59       337\n",
      "weighted avg       0.81      0.64      0.68       337\n",
      "\n",
      "[[167 107]\n",
      " [ 14  49]]\n",
      "Test data\n",
      "              precision    recall  f1-score   support\n",
      "\n",
      "           0       0.97      0.64      0.77       303\n",
      "           1       0.21      0.85      0.34        34\n",
      "\n",
      "    accuracy                           0.66       337\n",
      "   macro avg       0.59      0.75      0.56       337\n",
      "weighted avg       0.90      0.66      0.73       337\n",
      "\n",
      "[[194 109]\n",
      " [  5  29]]\n"
     ]
    }
   ],
   "source": [
    "for i in range(0,6):\n",
    "    비오톱=pd.read_csv('./비오톱유형%d.csv'%i,header=0,index_col=0)\n",
    "    train_data=비오톱[비오톱.index<='2020-06-30']\n",
    "    test_data=비오톱[비오톱.index>'2020-06-30']\n",
    "    y=(train_data['단속건수']!=0).astype(int)\n",
    "    X=train_data[['month', 'days', 'hour', '요일', '시간대', 'holiday']]\n",
    "    x_samp,y_samp=RandomOverSampler().fit_sample(X,y)\n",
    "    xgb=XGBClassifier()\n",
    "    xgb.fit(x_samp,y_samp)\n",
    "    print(\"Test data\")\n",
    "    y_test=(test_data['단속건수']!=0).astype(int)\n",
    "    X_test=test_data[['month', 'days', 'hour', '요일', '시간대', 'holiday']]\n",
    "    print(classification_report(y_test,xgb.predict(X_test)))\n",
    "    print(confusion_matrix(y_test,xgb.predict(X_test),labels=[0,1]))\n",
    "    xgb.save_model('./비오톱_%d_xgboost'%i)"
   ]
  },
  {
   "cell_type": "markdown",
   "metadata": {},
   "source": [
    "# UNDER SAMPLING"
   ]
  },
  {
   "cell_type": "code",
   "execution_count": 51,
   "metadata": {},
   "outputs": [
    {
     "name": "stdout",
     "output_type": "stream",
     "text": [
      "Test data\n",
      "              precision    recall  f1-score   support\n",
      "\n",
      "           0       0.89      0.53      0.66       263\n",
      "           1       0.31      0.77      0.45        74\n",
      "\n",
      "    accuracy                           0.58       337\n",
      "   macro avg       0.60      0.65      0.56       337\n",
      "weighted avg       0.76      0.58      0.62       337\n",
      "\n",
      "[[139 124]\n",
      " [ 17  57]]\n",
      "Test data\n",
      "              precision    recall  f1-score   support\n",
      "\n",
      "           0       0.65      0.66      0.66       104\n",
      "           1       0.85      0.84      0.84       233\n",
      "\n",
      "    accuracy                           0.79       337\n",
      "   macro avg       0.75      0.75      0.75       337\n",
      "weighted avg       0.79      0.79      0.79       337\n",
      "\n",
      "[[ 69  35]\n",
      " [ 37 196]]\n",
      "Test data\n",
      "              precision    recall  f1-score   support\n",
      "\n",
      "           0       0.87      0.59      0.71       233\n",
      "           1       0.47      0.81      0.59       104\n",
      "\n",
      "    accuracy                           0.66       337\n",
      "   macro avg       0.67      0.70      0.65       337\n",
      "weighted avg       0.75      0.66      0.67       337\n",
      "\n",
      "[[138  95]\n",
      " [ 20  84]]\n",
      "Test data\n",
      "              precision    recall  f1-score   support\n",
      "\n",
      "           0       0.69      0.64      0.67       152\n",
      "           1       0.72      0.76      0.74       185\n",
      "\n",
      "    accuracy                           0.71       337\n",
      "   macro avg       0.71      0.70      0.70       337\n",
      "weighted avg       0.71      0.71      0.71       337\n",
      "\n",
      "[[ 98  54]\n",
      " [ 44 141]]\n",
      "Test data\n",
      "              precision    recall  f1-score   support\n",
      "\n",
      "           0       0.93      0.61      0.73       274\n",
      "           1       0.32      0.79      0.45        63\n",
      "\n",
      "    accuracy                           0.64       337\n",
      "   macro avg       0.62      0.70      0.59       337\n",
      "weighted avg       0.81      0.64      0.68       337\n",
      "\n",
      "[[166 108]\n",
      " [ 13  50]]\n",
      "Test data\n",
      "              precision    recall  f1-score   support\n",
      "\n",
      "           0       0.98      0.60      0.75       303\n",
      "           1       0.21      0.91      0.34        34\n",
      "\n",
      "    accuracy                           0.64       337\n",
      "   macro avg       0.59      0.76      0.54       337\n",
      "weighted avg       0.91      0.64      0.71       337\n",
      "\n",
      "[[183 120]\n",
      " [  3  31]]\n"
     ]
    }
   ],
   "source": [
    "for i in range(0,6):\n",
    "    비오톱=pd.read_csv('./비오톱유형%d.csv'%i,header=0,index_col=0)\n",
    "    train_data=비오톱[비오톱.index<='2020-06-30']\n",
    "    test_data=비오톱[비오톱.index>'2020-06-30']\n",
    "    y=(train_data['단속건수']!=0).astype(int)\n",
    "    X=train_data[['month', 'days', 'hour', '요일', '시간대', 'holiday']]\n",
    "    x_samp,y_samp=RandomUnderSampler().fit_sample(X,y)\n",
    "    xgb=XGBClassifier()\n",
    "    xgb.fit(x_samp,y_samp)\n",
    "    print(\"Test data\")\n",
    "    y_test=(test_data['단속건수']!=0).astype(int)\n",
    "    X_test=test_data[['month', 'days', 'hour', '요일', '시간대', 'holiday']]\n",
    "    print(classification_report(y_test,xgb.predict(X_test)))\n",
    "    print(confusion_matrix(y_test,xgb.predict(X_test),labels=[0,1]))    "
   ]
  },
  {
   "cell_type": "code",
   "execution_count": 86,
   "metadata": {},
   "outputs": [
    {
     "name": "stdout",
     "output_type": "stream",
     "text": [
      "              precision    recall  f1-score   support\n",
      "\n",
      "           0       0.97      0.76      0.85    124881\n",
      "           1       0.43      0.89      0.58     25485\n",
      "\n",
      "    accuracy                           0.78    150366\n",
      "   macro avg       0.70      0.82      0.72    150366\n",
      "weighted avg       0.88      0.78      0.81    150366\n",
      "\n",
      "[[94787 30094]\n",
      " [ 2805 22680]]\n"
     ]
    }
   ],
   "source": [
    "xgb=XGBClassifier()\n",
    "xgb.fit(x_samp,y_samp)\n",
    "print(classification_report(y_test,xgb.predict(X_test)))\n",
    "print(confusion_matrix(y_test,xgb.predict(X_test),labels=[0,1]))"
   ]
  }
 ],
 "metadata": {
  "kernelspec": {
   "display_name": "Python 3",
   "language": "python",
   "name": "python3"
  },
  "language_info": {
   "codemirror_mode": {
    "name": "ipython",
    "version": 3
   },
   "file_extension": ".py",
   "mimetype": "text/x-python",
   "name": "python",
   "nbconvert_exporter": "python",
   "pygments_lexer": "ipython3",
   "version": "3.8.3"
  }
 },
 "nbformat": 4,
 "nbformat_minor": 4
}
