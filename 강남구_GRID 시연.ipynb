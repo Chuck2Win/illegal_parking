{
 "cells": [
  {
   "cell_type": "code",
   "execution_count": 247,
   "metadata": {},
   "outputs": [],
   "source": [
    "import pandas as pd\n",
    "from pandas import DataFrame as df\n",
    "import numpy as np\n",
    "import os\n",
    "import geopandas as gpd\n",
    "import matplotlib.pyplot as plt\n",
    "import datetime as dt\n",
    "from sklearn.metrics import classification_report, confusion_matrix,mean_squared_error\n",
    "from sklearn.model_selection import train_test_split\n",
    "from xgboost import XGBClassifier,XGBRegressor\n",
    "from sklearn.ensemble import RandomForestClassifier\n",
    "from sklearn.preprocessing import OneHotEncoder\n",
    "from statsmodels.distributions.empirical_distribution import ECDF\n",
    "import datetime"
   ]
  },
  {
   "cell_type": "code",
   "execution_count": 128,
   "metadata": {},
   "outputs": [],
   "source": [
    "import pickle\n",
    "with open('./강남구데이터/grid_coordi', 'rb') as f:\n",
    "    a = pickle.load(f)\n",
    "with open('./강남구데이터/grid_to_zero_coordi', 'rb') as f:\n",
    "    b = pickle.load(f) "
   ]
  },
  {
   "cell_type": "code",
   "execution_count": 129,
   "metadata": {},
   "outputs": [],
   "source": [
    "grid_gangnam1=df(a).T\n",
    "grid_gangnam2=df(b).T\n",
    "grid_gangnam=pd.concat([grid_gangnam1,grid_gangnam2])\n",
    "grid_gangnam=gpd.GeoDataFrame(grid_gangnam,geometry=gpd.points_from_xy(grid_gangnam[1],grid_gangnam[0]))"
   ]
  },
  {
   "cell_type": "markdown",
   "metadata": {},
   "source": [
    "# 1.주어진 데이터 - 시간, 위도, 경도"
   ]
  },
  {
   "cell_type": "code",
   "execution_count": 101,
   "metadata": {},
   "outputs": [
    {
     "data": {
      "text/html": [
       "<div>\n",
       "<style scoped>\n",
       "    .dataframe tbody tr th:only-of-type {\n",
       "        vertical-align: middle;\n",
       "    }\n",
       "\n",
       "    .dataframe tbody tr th {\n",
       "        vertical-align: top;\n",
       "    }\n",
       "\n",
       "    .dataframe thead th {\n",
       "        text-align: right;\n",
       "    }\n",
       "</style>\n",
       "<table border=\"1\" class=\"dataframe\">\n",
       "  <thead>\n",
       "    <tr style=\"text-align: right;\">\n",
       "      <th></th>\n",
       "      <th>Time</th>\n",
       "      <th>위도</th>\n",
       "      <th>경도</th>\n",
       "    </tr>\n",
       "  </thead>\n",
       "  <tbody>\n",
       "    <tr>\n",
       "      <th>1984523</th>\n",
       "      <td>2020-08-03 20:12</td>\n",
       "      <td>37.526538</td>\n",
       "      <td>127.028703</td>\n",
       "    </tr>\n",
       "    <tr>\n",
       "      <th>1984524</th>\n",
       "      <td>2020-08-03 20:14</td>\n",
       "      <td>37.523858</td>\n",
       "      <td>127.022980</td>\n",
       "    </tr>\n",
       "    <tr>\n",
       "      <th>1984525</th>\n",
       "      <td>2020-08-03 20:16</td>\n",
       "      <td>37.499020</td>\n",
       "      <td>127.062182</td>\n",
       "    </tr>\n",
       "    <tr>\n",
       "      <th>1984526</th>\n",
       "      <td>2020-08-03 20:18</td>\n",
       "      <td>37.499020</td>\n",
       "      <td>127.062182</td>\n",
       "    </tr>\n",
       "    <tr>\n",
       "      <th>1984527</th>\n",
       "      <td>2020-08-03 20:18</td>\n",
       "      <td>37.514379</td>\n",
       "      <td>127.052918</td>\n",
       "    </tr>\n",
       "    <tr>\n",
       "      <th>...</th>\n",
       "      <td>...</td>\n",
       "      <td>...</td>\n",
       "      <td>...</td>\n",
       "    </tr>\n",
       "    <tr>\n",
       "      <th>1984617</th>\n",
       "      <td>2020-08-03 23:20</td>\n",
       "      <td>37.517263</td>\n",
       "      <td>127.036615</td>\n",
       "    </tr>\n",
       "    <tr>\n",
       "      <th>1984618</th>\n",
       "      <td>2020-08-03 23:25</td>\n",
       "      <td>37.507023</td>\n",
       "      <td>127.044023</td>\n",
       "    </tr>\n",
       "    <tr>\n",
       "      <th>1984619</th>\n",
       "      <td>2020-08-03 23:26</td>\n",
       "      <td>37.507023</td>\n",
       "      <td>127.044023</td>\n",
       "    </tr>\n",
       "    <tr>\n",
       "      <th>1984620</th>\n",
       "      <td>2020-08-03 23:30</td>\n",
       "      <td>37.507307</td>\n",
       "      <td>127.024679</td>\n",
       "    </tr>\n",
       "    <tr>\n",
       "      <th>1984621</th>\n",
       "      <td>2020-08-03 23:46</td>\n",
       "      <td>37.506942</td>\n",
       "      <td>127.052600</td>\n",
       "    </tr>\n",
       "  </tbody>\n",
       "</table>\n",
       "<p>93 rows × 3 columns</p>\n",
       "</div>"
      ],
      "text/plain": [
       "                     Time         위도          경도\n",
       "1984523  2020-08-03 20:12  37.526538  127.028703\n",
       "1984524  2020-08-03 20:14  37.523858  127.022980\n",
       "1984525  2020-08-03 20:16  37.499020  127.062182\n",
       "1984526  2020-08-03 20:18  37.499020  127.062182\n",
       "1984527  2020-08-03 20:18  37.514379  127.052918\n",
       "...                   ...        ...         ...\n",
       "1984617  2020-08-03 23:20  37.517263  127.036615\n",
       "1984618  2020-08-03 23:25  37.507023  127.044023\n",
       "1984619  2020-08-03 23:26  37.507023  127.044023\n",
       "1984620  2020-08-03 23:30  37.507307  127.024679\n",
       "1984621  2020-08-03 23:46  37.506942  127.052600\n",
       "\n",
       "[93 rows x 3 columns]"
      ]
     },
     "execution_count": 101,
     "metadata": {},
     "output_type": "execute_result"
    }
   ],
   "source": [
    "example"
   ]
  },
  {
   "cell_type": "markdown",
   "metadata": {},
   "source": [
    "# 2.feature로 변환"
   ]
  },
  {
   "cell_type": "code",
   "execution_count": 229,
   "metadata": {},
   "outputs": [],
   "source": [
    "data=gpd.GeoDataFrame(example,geometry=gpd.points_from_xy(example.경도,example.위도))"
   ]
  },
  {
   "cell_type": "code",
   "execution_count": 230,
   "metadata": {},
   "outputs": [],
   "source": [
    "def extract_feature(data):\n",
    "    def grid_match(data_i):\n",
    "        grid_match=np.load('./grid/grid_match',allow_pickle=True)\n",
    "        lat_min = 37.455\n",
    "        lat_max = 37.535\n",
    "        long_min = 127.01\n",
    "        long_max = 127.125\n",
    "\n",
    "        lat_bin = np.arange(lat_min, lat_max, 0.005)\n",
    "        lat_bin = np.append(lat_bin, lat_max)\n",
    "\n",
    "        long_bin = np.arange(long_min,long_max, 0.005)\n",
    "        long_bin = np.append(long_bin, long_max)\n",
    "        for i in range(139):\n",
    "            a = grid_match[i][0]\n",
    "            b = grid_match[i][1]\n",
    "            if (data_i.위도 >= lat_bin[a]) & (data_i.위도 < lat_bin[a+1]):\n",
    "                if (data_i.경도 >= long_bin[b]) & (data_i.경도 < long_bin[b+1]):\n",
    "                    return i\n",
    "            \n",
    "    data['time']=data['Time'].apply(lambda i : datetime.datetime.strptime(i,'%Y-%m-%d %H:%M').hour)\n",
    "    data['day']=data['Time'].apply(lambda i : datetime.datetime.strptime(i,'%Y-%m-%d %H:%M').day)\n",
    "    data['grid_index']=-1\n",
    "    for i in data.index:\n",
    "        data.loc[i,'grid_index']=grid_match(data.loc[i,:])\n",
    "    "
   ]
  },
  {
   "cell_type": "code",
   "execution_count": 231,
   "metadata": {},
   "outputs": [],
   "source": [
    "extract_feature(data)"
   ]
  },
  {
   "cell_type": "markdown",
   "metadata": {},
   "source": [
    "# 3.변환된 데이터의 결과\n",
    "## 이 때 grid_index가 NaN인 경우 단속되지 않는다고 보면 된다."
   ]
  },
  {
   "cell_type": "code",
   "execution_count": 233,
   "metadata": {},
   "outputs": [
    {
     "data": {
      "text/html": [
       "<div>\n",
       "<style scoped>\n",
       "    .dataframe tbody tr th:only-of-type {\n",
       "        vertical-align: middle;\n",
       "    }\n",
       "\n",
       "    .dataframe tbody tr th {\n",
       "        vertical-align: top;\n",
       "    }\n",
       "\n",
       "    .dataframe thead th {\n",
       "        text-align: right;\n",
       "    }\n",
       "</style>\n",
       "<table border=\"1\" class=\"dataframe\">\n",
       "  <thead>\n",
       "    <tr style=\"text-align: right;\">\n",
       "      <th></th>\n",
       "      <th>Time</th>\n",
       "      <th>위도</th>\n",
       "      <th>경도</th>\n",
       "      <th>geometry</th>\n",
       "      <th>time</th>\n",
       "      <th>day</th>\n",
       "      <th>grid_index</th>\n",
       "    </tr>\n",
       "  </thead>\n",
       "  <tbody>\n",
       "    <tr>\n",
       "      <th>1984523</th>\n",
       "      <td>2020-08-03 20:12</td>\n",
       "      <td>37.526538</td>\n",
       "      <td>127.028703</td>\n",
       "      <td>POINT (127.02870 37.52654)</td>\n",
       "      <td>20</td>\n",
       "      <td>3</td>\n",
       "      <td>NaN</td>\n",
       "    </tr>\n",
       "    <tr>\n",
       "      <th>1984524</th>\n",
       "      <td>2020-08-03 20:14</td>\n",
       "      <td>37.523858</td>\n",
       "      <td>127.022980</td>\n",
       "      <td>POINT (127.02298 37.52386)</td>\n",
       "      <td>20</td>\n",
       "      <td>3</td>\n",
       "      <td>NaN</td>\n",
       "    </tr>\n",
       "    <tr>\n",
       "      <th>1984525</th>\n",
       "      <td>2020-08-03 20:16</td>\n",
       "      <td>37.499020</td>\n",
       "      <td>127.062182</td>\n",
       "      <td>POINT (127.06218 37.49902)</td>\n",
       "      <td>20</td>\n",
       "      <td>3</td>\n",
       "      <td>80.0</td>\n",
       "    </tr>\n",
       "    <tr>\n",
       "      <th>1984526</th>\n",
       "      <td>2020-08-03 20:18</td>\n",
       "      <td>37.499020</td>\n",
       "      <td>127.062182</td>\n",
       "      <td>POINT (127.06218 37.49902)</td>\n",
       "      <td>20</td>\n",
       "      <td>3</td>\n",
       "      <td>80.0</td>\n",
       "    </tr>\n",
       "    <tr>\n",
       "      <th>1984527</th>\n",
       "      <td>2020-08-03 20:18</td>\n",
       "      <td>37.514379</td>\n",
       "      <td>127.052918</td>\n",
       "      <td>POINT (127.05292 37.51438)</td>\n",
       "      <td>20</td>\n",
       "      <td>3</td>\n",
       "      <td>117.0</td>\n",
       "    </tr>\n",
       "    <tr>\n",
       "      <th>...</th>\n",
       "      <td>...</td>\n",
       "      <td>...</td>\n",
       "      <td>...</td>\n",
       "      <td>...</td>\n",
       "      <td>...</td>\n",
       "      <td>...</td>\n",
       "      <td>...</td>\n",
       "    </tr>\n",
       "    <tr>\n",
       "      <th>1984617</th>\n",
       "      <td>2020-08-03 23:20</td>\n",
       "      <td>37.517263</td>\n",
       "      <td>127.036615</td>\n",
       "      <td>POINT (127.03661 37.51726)</td>\n",
       "      <td>23</td>\n",
       "      <td>3</td>\n",
       "      <td>NaN</td>\n",
       "    </tr>\n",
       "    <tr>\n",
       "      <th>1984618</th>\n",
       "      <td>2020-08-03 23:25</td>\n",
       "      <td>37.507023</td>\n",
       "      <td>127.044023</td>\n",
       "      <td>POINT (127.04402 37.50702)</td>\n",
       "      <td>23</td>\n",
       "      <td>3</td>\n",
       "      <td>104.0</td>\n",
       "    </tr>\n",
       "    <tr>\n",
       "      <th>1984619</th>\n",
       "      <td>2020-08-03 23:26</td>\n",
       "      <td>37.507023</td>\n",
       "      <td>127.044023</td>\n",
       "      <td>POINT (127.04402 37.50702)</td>\n",
       "      <td>23</td>\n",
       "      <td>3</td>\n",
       "      <td>104.0</td>\n",
       "    </tr>\n",
       "    <tr>\n",
       "      <th>1984620</th>\n",
       "      <td>2020-08-03 23:30</td>\n",
       "      <td>37.507307</td>\n",
       "      <td>127.024679</td>\n",
       "      <td>POINT (127.02468 37.50731)</td>\n",
       "      <td>23</td>\n",
       "      <td>3</td>\n",
       "      <td>NaN</td>\n",
       "    </tr>\n",
       "    <tr>\n",
       "      <th>1984621</th>\n",
       "      <td>2020-08-03 23:46</td>\n",
       "      <td>37.506942</td>\n",
       "      <td>127.052600</td>\n",
       "      <td>POINT (127.05260 37.50694)</td>\n",
       "      <td>23</td>\n",
       "      <td>3</td>\n",
       "      <td>106.0</td>\n",
       "    </tr>\n",
       "  </tbody>\n",
       "</table>\n",
       "<p>93 rows × 7 columns</p>\n",
       "</div>"
      ],
      "text/plain": [
       "                     Time         위도          경도                    geometry  \\\n",
       "1984523  2020-08-03 20:12  37.526538  127.028703  POINT (127.02870 37.52654)   \n",
       "1984524  2020-08-03 20:14  37.523858  127.022980  POINT (127.02298 37.52386)   \n",
       "1984525  2020-08-03 20:16  37.499020  127.062182  POINT (127.06218 37.49902)   \n",
       "1984526  2020-08-03 20:18  37.499020  127.062182  POINT (127.06218 37.49902)   \n",
       "1984527  2020-08-03 20:18  37.514379  127.052918  POINT (127.05292 37.51438)   \n",
       "...                   ...        ...         ...                         ...   \n",
       "1984617  2020-08-03 23:20  37.517263  127.036615  POINT (127.03661 37.51726)   \n",
       "1984618  2020-08-03 23:25  37.507023  127.044023  POINT (127.04402 37.50702)   \n",
       "1984619  2020-08-03 23:26  37.507023  127.044023  POINT (127.04402 37.50702)   \n",
       "1984620  2020-08-03 23:30  37.507307  127.024679  POINT (127.02468 37.50731)   \n",
       "1984621  2020-08-03 23:46  37.506942  127.052600  POINT (127.05260 37.50694)   \n",
       "\n",
       "         time  day  grid_index  \n",
       "1984523    20    3         NaN  \n",
       "1984524    20    3         NaN  \n",
       "1984525    20    3        80.0  \n",
       "1984526    20    3        80.0  \n",
       "1984527    20    3       117.0  \n",
       "...       ...  ...         ...  \n",
       "1984617    23    3         NaN  \n",
       "1984618    23    3       104.0  \n",
       "1984619    23    3       104.0  \n",
       "1984620    23    3         NaN  \n",
       "1984621    23    3       106.0  \n",
       "\n",
       "[93 rows x 7 columns]"
      ]
     },
     "execution_count": 233,
     "metadata": {},
     "output_type": "execute_result"
    }
   ],
   "source": [
    "data"
   ]
  },
  {
   "cell_type": "markdown",
   "metadata": {},
   "source": [
    "# 이 중 하나의 경우에 대해서 예측을 한다고 하면"
   ]
  },
  {
   "cell_type": "code",
   "execution_count": 234,
   "metadata": {},
   "outputs": [],
   "source": [
    "data_i=data.loc[data.index[2],:]"
   ]
  },
  {
   "cell_type": "code",
   "execution_count": 280,
   "metadata": {},
   "outputs": [
    {
     "data": {
      "text/plain": [
       "Time                                   2020-08-03 20:16\n",
       "위도                                               37.499\n",
       "경도                                              127.062\n",
       "geometry      POINT (127.062182304456 37.4990204274664)\n",
       "time                                                 20\n",
       "day                                                   3\n",
       "grid_index                                           80\n",
       "Name: 1984525, dtype: object"
      ]
     },
     "execution_count": 280,
     "metadata": {},
     "output_type": "execute_result"
    }
   ],
   "source": [
    "data_i"
   ]
  },
  {
   "cell_type": "code",
   "execution_count": 235,
   "metadata": {},
   "outputs": [],
   "source": [
    "from joblib import dump, load\n",
    "enc = load('enc.joblib') "
   ]
  },
  {
   "cell_type": "code",
   "execution_count": 236,
   "metadata": {},
   "outputs": [],
   "source": [
    "processed_data=[data_i[['grid_index','time','day']].tolist()]\n",
    "processed_data=enc.transform(processed_data)"
   ]
  },
  {
   "cell_type": "markdown",
   "metadata": {},
   "source": [
    "# 4. 해당 데이터가 단속될 것인지, 아닌 것인지를 분류\n",
    "## 단속되지 않을 확률이 70%이상이면 단속되지 않는다고 함\n",
    "## 단속되지 않을 확률이 70% 미만일 경우 단속될 수 있다고 생각해서 다음 모델로 넘어감"
   ]
  },
  {
   "cell_type": "code",
   "execution_count": 237,
   "metadata": {},
   "outputs": [],
   "source": [
    "# model load\n",
    "xgb_1=XGBClassifier()\n",
    "xgb_1.load_model('model1.model')"
   ]
  },
  {
   "cell_type": "code",
   "execution_count": 238,
   "metadata": {},
   "outputs": [
    {
     "name": "stdout",
     "output_type": "stream",
     "text": [
      "[0.35591137]\n"
     ]
    }
   ],
   "source": [
    "# predict\n",
    "# 단속되지 않을 확률\n",
    "wasted_prob=xgb_1.predict_proba(processed_data)[:,0]\n",
    "print(wasted_prob)"
   ]
  },
  {
   "cell_type": "markdown",
   "metadata": {},
   "source": [
    "# 단속되지 않을 확률이 70% 미만일 경우"
   ]
  },
  {
   "cell_type": "markdown",
   "metadata": {},
   "source": [
    "# 5. 해당 데이터가 어느 정도의 확률도 단속될 지를 예측"
   ]
  },
  {
   "cell_type": "markdown",
   "metadata": {},
   "source": [
    "## 5.1 해당 데이터가 어느 그리드들과 인접한 지를 계산 (5개 정도)"
   ]
  },
  {
   "cell_type": "code",
   "execution_count": 239,
   "metadata": {},
   "outputs": [],
   "source": [
    "distance=grid_gangnam.geometry.distance(data_i.geometry)"
   ]
  },
  {
   "cell_type": "code",
   "execution_count": 242,
   "metadata": {},
   "outputs": [
    {
     "data": {
      "text/plain": [
       "0      0.054100\n",
       "1      0.051039\n",
       "2      0.048303\n",
       "3      0.053930\n",
       "4      0.050365\n",
       "         ...   \n",
       "164    0.041596\n",
       "165    0.045370\n",
       "166    0.057818\n",
       "167    0.062218\n",
       "168    0.052406\n",
       "Length: 169, dtype: float64"
      ]
     },
     "execution_count": 242,
     "metadata": {},
     "output_type": "execute_result"
    }
   ],
   "source": [
    "distance"
   ]
  },
  {
   "cell_type": "markdown",
   "metadata": {},
   "source": [
    "## 가까운 k개와의 distance와 grid 를 추출"
   ]
  },
  {
   "cell_type": "code",
   "execution_count": 243,
   "metadata": {},
   "outputs": [],
   "source": [
    "top_k=np.argsort(distance)[:5]\n",
    "top_k_distance=distance[np.argsort(distance)[:5]]"
   ]
  },
  {
   "cell_type": "code",
   "execution_count": 281,
   "metadata": {},
   "outputs": [
    {
     "data": {
      "text/plain": [
       "0    80\n",
       "1    95\n",
       "2    79\n",
       "3    81\n",
       "4    94\n",
       "dtype: int64"
      ]
     },
     "execution_count": 281,
     "metadata": {},
     "output_type": "execute_result"
    }
   ],
   "source": [
    "top_k"
   ]
  },
  {
   "cell_type": "code",
   "execution_count": 282,
   "metadata": {},
   "outputs": [
    {
     "data": {
      "text/plain": [
       "80    0.001553\n",
       "95    0.003494\n",
       "79    0.004923\n",
       "81    0.005531\n",
       "94    0.005834\n",
       "dtype: float64"
      ]
     },
     "execution_count": 282,
     "metadata": {},
     "output_type": "execute_result"
    }
   ],
   "source": [
    "top_k_distance"
   ]
  },
  {
   "cell_type": "markdown",
   "metadata": {},
   "source": [
    "## 이를 토대로 다시 feature를 생성\n",
    "## 하지만 grid_to_zero coordinate의 경우는 제외시킴 "
   ]
  },
  {
   "cell_type": "code",
   "execution_count": 244,
   "metadata": {},
   "outputs": [],
   "source": [
    "real_top_k=[ i for i in top_k if i not in b.keys() ]\n",
    "real_top_k_distance = x[real_top_k]\n",
    "\n",
    "not_real_top_k=[ i for i in top_k if i in b.keys() ]\n",
    "not_real_top_k_distance = x[not_real_top_k]"
   ]
  },
  {
   "cell_type": "code",
   "execution_count": 284,
   "metadata": {},
   "outputs": [],
   "source": [
    "new_data=[[i,data_i.time,data_i.day] for i in real_top_k]"
   ]
  },
  {
   "cell_type": "code",
   "execution_count": 286,
   "metadata": {},
   "outputs": [
    {
     "data": {
      "text/html": [
       "<div>\n",
       "<style scoped>\n",
       "    .dataframe tbody tr th:only-of-type {\n",
       "        vertical-align: middle;\n",
       "    }\n",
       "\n",
       "    .dataframe tbody tr th {\n",
       "        vertical-align: top;\n",
       "    }\n",
       "\n",
       "    .dataframe thead th {\n",
       "        text-align: right;\n",
       "    }\n",
       "</style>\n",
       "<table border=\"1\" class=\"dataframe\">\n",
       "  <thead>\n",
       "    <tr style=\"text-align: right;\">\n",
       "      <th></th>\n",
       "      <th>grid_index</th>\n",
       "      <th>time</th>\n",
       "      <th>data</th>\n",
       "    </tr>\n",
       "  </thead>\n",
       "  <tbody>\n",
       "    <tr>\n",
       "      <th>0</th>\n",
       "      <td>80</td>\n",
       "      <td>20</td>\n",
       "      <td>3</td>\n",
       "    </tr>\n",
       "    <tr>\n",
       "      <th>1</th>\n",
       "      <td>95</td>\n",
       "      <td>20</td>\n",
       "      <td>3</td>\n",
       "    </tr>\n",
       "    <tr>\n",
       "      <th>2</th>\n",
       "      <td>79</td>\n",
       "      <td>20</td>\n",
       "      <td>3</td>\n",
       "    </tr>\n",
       "    <tr>\n",
       "      <th>3</th>\n",
       "      <td>81</td>\n",
       "      <td>20</td>\n",
       "      <td>3</td>\n",
       "    </tr>\n",
       "    <tr>\n",
       "      <th>4</th>\n",
       "      <td>94</td>\n",
       "      <td>20</td>\n",
       "      <td>3</td>\n",
       "    </tr>\n",
       "  </tbody>\n",
       "</table>\n",
       "</div>"
      ],
      "text/plain": [
       "   grid_index  time  data\n",
       "0          80    20     3\n",
       "1          95    20     3\n",
       "2          79    20     3\n",
       "3          81    20     3\n",
       "4          94    20     3"
      ]
     },
     "execution_count": 286,
     "metadata": {},
     "output_type": "execute_result"
    }
   ],
   "source": [
    "df(new_data,columns=['grid_index','time','data'])"
   ]
  },
  {
   "cell_type": "markdown",
   "metadata": {},
   "source": [
    "## real top k로만 feature를 만들어 내고, 분석을 진행함"
   ]
  },
  {
   "cell_type": "code",
   "execution_count": 253,
   "metadata": {},
   "outputs": [],
   "source": [
    "new_data=enc.transform(new_data)"
   ]
  },
  {
   "cell_type": "code",
   "execution_count": 254,
   "metadata": {},
   "outputs": [],
   "source": [
    "# model load\n",
    "xgb_2=XGBRegressor()\n",
    "xgb_2.load_model('model2.model')"
   ]
  },
  {
   "cell_type": "code",
   "execution_count": 255,
   "metadata": {},
   "outputs": [],
   "source": [
    "# 예측\n",
    "nums=xgb_2.predict(new_data)"
   ]
  },
  {
   "cell_type": "code",
   "execution_count": 257,
   "metadata": {},
   "outputs": [],
   "source": [
    "from statsmodels.distributions.empirical_distribution import ECDF\n",
    "y_train=np.load('./empirical_num.npy')\n",
    "ecdf=ECDF(y_train)"
   ]
  },
  {
   "cell_type": "code",
   "execution_count": 287,
   "metadata": {},
   "outputs": [
    {
     "data": {
      "text/plain": [
       "array([2.3752651, 2.15125  , 2.4657044, 2.3361168, 2.3784719],\n",
       "      dtype=float32)"
      ]
     },
     "execution_count": 287,
     "metadata": {},
     "output_type": "execute_result"
    }
   ],
   "source": [
    "nums"
   ]
  },
  {
   "cell_type": "code",
   "execution_count": 258,
   "metadata": {},
   "outputs": [],
   "source": [
    "# 확률로 변환\n",
    "probs=ecdf(nums)"
   ]
  },
  {
   "cell_type": "code",
   "execution_count": 259,
   "metadata": {},
   "outputs": [
    {
     "data": {
      "text/plain": [
       "array([0.73050784, 0.73050784, 0.73050784, 0.73050784, 0.73050784])"
      ]
     },
     "execution_count": 259,
     "metadata": {},
     "output_type": "execute_result"
    }
   ],
   "source": [
    "probs"
   ]
  },
  {
   "cell_type": "markdown",
   "metadata": {},
   "source": [
    "## 최종 산출물"
   ]
  },
  {
   "cell_type": "code",
   "execution_count": 277,
   "metadata": {},
   "outputs": [],
   "source": [
    "answer = (probs * softmax(real_top_k_distance)).sum()"
   ]
  },
  {
   "cell_type": "code",
   "execution_count": 269,
   "metadata": {},
   "outputs": [],
   "source": [
    "def softmax(x):\n",
    "    s=(np.exp(x)).sum()\n",
    "    return np.exp(x)/s"
   ]
  },
  {
   "cell_type": "code",
   "execution_count": 279,
   "metadata": {},
   "outputs": [
    {
     "name": "stdout",
     "output_type": "stream",
     "text": [
      "0.7305078372049296\n"
     ]
    }
   ],
   "source": [
    "print(answer)"
   ]
  },
  {
   "cell_type": "code",
   "execution_count": 278,
   "metadata": {},
   "outputs": [
    {
     "data": {
      "text/plain": [
       "0.7305078372049296"
      ]
     },
     "execution_count": 278,
     "metadata": {},
     "output_type": "execute_result"
    }
   ],
   "source": [
    "answer"
   ]
  }
 ],
 "metadata": {
  "kernelspec": {
   "display_name": "Python 3",
   "language": "python",
   "name": "python3"
  },
  "language_info": {
   "codemirror_mode": {
    "name": "ipython",
    "version": 3
   },
   "file_extension": ".py",
   "mimetype": "text/x-python",
   "name": "python",
   "nbconvert_exporter": "python",
   "pygments_lexer": "ipython3",
   "version": "3.8.3"
  }
 },
 "nbformat": 4,
 "nbformat_minor": 4
}
